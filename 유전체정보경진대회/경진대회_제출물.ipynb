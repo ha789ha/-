{
  "cells": [
    {
      "attachments": {},
      "cell_type": "markdown",
      "metadata": {
        "id": "Hh4cNN69cMB_"
      },
      "source": [
        "#  <center> Xgboost와 GridsearchCv 활용한 유전체 품종 분류 분석에 대한 연구 </center> \n",
        "\n",
        "## <center> 이하준 </center>\n",
        "\n",
        "\n",
        "\n",
        "### <center> 서울시립대</center>\n",
        "#### <center> hahava789@gmail.com </center>\n"
      ]
    },
    {
      "attachments": {},
      "cell_type": "markdown",
      "metadata": {
        "id": "q_HJ44IifxuL"
      },
      "source": [
        "## <center> 초록 </center>\n",
        "\n",
        "   단일 염기 다형성(single nucleotide Polymorphisms), 일명 SNP는 하나의 염기서열의 차이, 변이를 뜻한다. SNP는 다양한 유전적 변이성에 대한 정보를 제공하기 때문에 품종 개량, 구분 등에 널리 활용되고 있으며 본 연구에서는 개체 정보, SNP 정보를 통해 A, B, C 품종을 분류하는 것을 목적으로 하였다. 이를 위해 기계학습의 일종인 Xgboost 모델을 활용하였으며, 모델 성능의 향상을 위해 하이퍼 파라미터 튜닝 모델의 일종인 GridSearchCv를 활용해 최적의 파라미터를 선정하였다. 데이터는 261개의 훈련 데이터 셋과 15개 SNP의 정보 데이터 셋으로 이루어져 있으며 174개의 테스트 데이터로 모델의 성능을 확인하였다. 연구에서는 SNP정보 데이터 셋에서 염색체에 대한 정보를 활용하기 위해 염색체 별로 그룹을 묶어 최종적으로 성능이 가장 좋은 모델을 선정하였다. 본 연구를 통해 SNP를 활용한 품종 분류에 대해 머신러닝 기반의 모델 적용 가능성과 더불어 염색체 활용에 대해서도 살펴볼 수 있었다.\n",
        " "
      ]
    },
    {
      "attachments": {},
      "cell_type": "markdown",
      "metadata": {
        "id": "b-Y1n7ZUeeIF"
      },
      "source": [
        "# 1. 서론\n",
        "\n",
        "최근 생물학의 발전으로 DNA를 활용한 분자표지인지 시스템이 개발되고 있다. 그로 인해 STR(Short Tandem repeat), RFLP(restriction fragment length polymorphism) 등이 활용되었으나 최근은 이러한 시간과 장비를 많이 소요되는 기술보다 SNP(single nucleotide Polymorphisms)같은 분자표지 탐지 기술이 이용되고 있다. \n",
        "\n",
        "본 연구에서도 이러한 SNP를 활용해 A, B, C 품종의 정확한 분류를 하는 것을 목적으로 하고 있다. 데이터는 훈련 데이터, SNP정보 데이터, 테스트 데이터로 이루어져있므며 훈련 데이터와 SNP정보 데이터를 통해 품종 정보가 제공되지 않는 테스트 데이터의 정확도를 최대로 끌어올리는 것을 목표로 하였다. 이를 위해 SNP정보 데이터를 최대한 활용할 필요가 있었으며 정보 데이터 세트에 chrom(염색체)에 대한 정보가 존재한다는 것에 착안해 전체 SNP정보를 활용하기 보다는 염색체 별로 그룹을 묶어 모델 성능을 시험하였다.\n",
        "\n",
        "모델의 선정은 Extreme Gradient Boosting의 일종인 Xgboost 모델을 활용하였다. Xgboost는 트리 기반의 앙상블 학습 중에서 가장 대표적인 알고리즘의 하나로 과적합 규제, 빠른 수행시간 등의 장점을 갖고 있어 널리 쓰이고 있는 모델 중의 하나이다. 또한 모형의 과적합을 피하고 최적의 파라미터를 선정하기 위해 하이퍼 파라미터 튜닝 모델인 GridSearchCv를 활용하였으며 최종적으로 가장 좋은 성능을 보이는 염색체 그룹과 파라미터를 선정하여 정확도를 개선할 수 있었다."
      ]
    },
    {
      "attachments": {},
      "cell_type": "markdown",
      "metadata": {
        "id": "kvFBFo7CXAvy"
      },
      "source": [
        "# 2. 데이터 분석 및 처리"
      ]
    },
    {
      "attachments": {},
      "cell_type": "markdown",
      "metadata": {
        "id": "X-IAc9JbrzwJ"
      },
      "source": [
        "## 2.1 데이터 개요\n",
        "\n",
        "연구 데이터는 충남대학교에서 제공한 훈련 데이터와 SNP정보 데이터를 활용하였으며 최종적으로 테스트 셋의 예측을 통해 정확도를 확인하였다. 훈련 데이터(train)는 261개의 개체와 각각의 개체에 대한 15개의 SNP정보(SNP_01 ~ SNP_15)가 담겨있었으며 추가적으로 가계 고유 번호(father), 모계 고유 번호(mother), 성별(gender), 개체 표현형 정보(trait), 개체의 품종(class) 정보가 존재하였다. SNP정보(snp_info) 데이터에는 각각의 SNP에 대한 명칭, 염색체, 길이, 위치에 대한 정보가 담겨있었다. 연구 과정에서는 훈련 데이터의 성능을 평가하기 위해 Scikit-Learn 패키지의 train_test_split 모듈을 활용하여 트레인 셋과 테스트 셋으로 구분하였다. "
      ]
    },
    {
      "attachments": {},
      "cell_type": "markdown",
      "metadata": {
        "id": "rw2SpD-6IGZg"
      },
      "source": [
        "\n",
        "## 2.2 라이브러리 구성 및 데이터 로드\n",
        "\n",
        "데이터 분석 및 예측 모델 학습을 위하여 Xgboost, Pandas, Numpy 등의 기본적인 라이브러리들을 활용하였으며, SNP정보를 그룹으로 묶기 위한 라이브러리인 itertools, 하이퍼 파라미터 튜닝과 테스트 셋 구분을 위한 Scikit-Learn 라이브러리를 활용하였다. 또한 CSV 형식의 train 데이터와 test 데이터를 데이터프레임 형식으로 로드하였다."
      ]
    },
    {
      "cell_type": "code",
      "execution_count": 1,
      "metadata": {
        "colab": {
          "base_uri": "https://localhost:8080/"
        },
        "id": "c1AbWdiRVPK9",
        "outputId": "54388d9c-68e5-4160-ad18-03bb95b1e8c5"
      },
      "outputs": [],
      "source": [
        "import pandas as pd\n",
        "import matplotlib.pyplot as plt\n",
        "import numpy as np\n",
        "import seaborn as sns\n",
        "\n",
        "from sklearn.preprocessing import LabelEncoder\n",
        "from sklearn import metrics\n",
        "from sklearn.model_selection import GridSearchCV\n",
        "from sklearn.model_selection import train_test_split\n",
        "from sklearn import metrics\n",
        "\n",
        "\n",
        "import itertools\n",
        "from itertools import combinations\n",
        "\n",
        "import xgboost\n",
        "from xgboost import XGBClassifier"
      ]
    },
    {
      "cell_type": "code",
      "execution_count": 2,
      "metadata": {},
      "outputs": [],
      "source": [
        "# 데이터 셋 로드\n",
        "train = pd.read_csv('train.csv')\n",
        "test = pd.read_csv('test.csv')\n",
        "info = pd.read_csv('snp_info.csv')"
      ]
    },
    {
      "cell_type": "code",
      "execution_count": 3,
      "metadata": {},
      "outputs": [
        {
          "data": {
            "text/html": [
              "<div>\n",
              "<style scoped>\n",
              "    .dataframe tbody tr th:only-of-type {\n",
              "        vertical-align: middle;\n",
              "    }\n",
              "\n",
              "    .dataframe tbody tr th {\n",
              "        vertical-align: top;\n",
              "    }\n",
              "\n",
              "    .dataframe thead th {\n",
              "        text-align: right;\n",
              "    }\n",
              "</style>\n",
              "<table border=\"1\" class=\"dataframe\">\n",
              "  <thead>\n",
              "    <tr style=\"text-align: right;\">\n",
              "      <th></th>\n",
              "      <th>id</th>\n",
              "      <th>father</th>\n",
              "      <th>mother</th>\n",
              "      <th>gender</th>\n",
              "      <th>trait</th>\n",
              "      <th>SNP_01</th>\n",
              "      <th>SNP_02</th>\n",
              "      <th>SNP_03</th>\n",
              "      <th>SNP_04</th>\n",
              "      <th>SNP_05</th>\n",
              "      <th>...</th>\n",
              "      <th>SNP_07</th>\n",
              "      <th>SNP_08</th>\n",
              "      <th>SNP_09</th>\n",
              "      <th>SNP_10</th>\n",
              "      <th>SNP_11</th>\n",
              "      <th>SNP_12</th>\n",
              "      <th>SNP_13</th>\n",
              "      <th>SNP_14</th>\n",
              "      <th>SNP_15</th>\n",
              "      <th>class</th>\n",
              "    </tr>\n",
              "  </thead>\n",
              "  <tbody>\n",
              "    <tr>\n",
              "      <th>0</th>\n",
              "      <td>TRAIN_000</td>\n",
              "      <td>0</td>\n",
              "      <td>0</td>\n",
              "      <td>0</td>\n",
              "      <td>2</td>\n",
              "      <td>G G</td>\n",
              "      <td>A G</td>\n",
              "      <td>A A</td>\n",
              "      <td>G A</td>\n",
              "      <td>C A</td>\n",
              "      <td>...</td>\n",
              "      <td>A A</td>\n",
              "      <td>G G</td>\n",
              "      <td>A A</td>\n",
              "      <td>G G</td>\n",
              "      <td>A G</td>\n",
              "      <td>A A</td>\n",
              "      <td>A A</td>\n",
              "      <td>A A</td>\n",
              "      <td>A A</td>\n",
              "      <td>B</td>\n",
              "    </tr>\n",
              "    <tr>\n",
              "      <th>1</th>\n",
              "      <td>TRAIN_001</td>\n",
              "      <td>0</td>\n",
              "      <td>0</td>\n",
              "      <td>0</td>\n",
              "      <td>2</td>\n",
              "      <td>A G</td>\n",
              "      <td>A G</td>\n",
              "      <td>C A</td>\n",
              "      <td>A A</td>\n",
              "      <td>A A</td>\n",
              "      <td>...</td>\n",
              "      <td>A A</td>\n",
              "      <td>G A</td>\n",
              "      <td>A A</td>\n",
              "      <td>A G</td>\n",
              "      <td>A A</td>\n",
              "      <td>G A</td>\n",
              "      <td>G G</td>\n",
              "      <td>A A</td>\n",
              "      <td>A A</td>\n",
              "      <td>C</td>\n",
              "    </tr>\n",
              "    <tr>\n",
              "      <th>2</th>\n",
              "      <td>TRAIN_002</td>\n",
              "      <td>0</td>\n",
              "      <td>0</td>\n",
              "      <td>0</td>\n",
              "      <td>2</td>\n",
              "      <td>G G</td>\n",
              "      <td>G G</td>\n",
              "      <td>A A</td>\n",
              "      <td>G A</td>\n",
              "      <td>C C</td>\n",
              "      <td>...</td>\n",
              "      <td>A A</td>\n",
              "      <td>G A</td>\n",
              "      <td>G A</td>\n",
              "      <td>A G</td>\n",
              "      <td>A A</td>\n",
              "      <td>A A</td>\n",
              "      <td>A A</td>\n",
              "      <td>A A</td>\n",
              "      <td>A A</td>\n",
              "      <td>B</td>\n",
              "    </tr>\n",
              "    <tr>\n",
              "      <th>3</th>\n",
              "      <td>TRAIN_003</td>\n",
              "      <td>0</td>\n",
              "      <td>0</td>\n",
              "      <td>0</td>\n",
              "      <td>1</td>\n",
              "      <td>A A</td>\n",
              "      <td>G G</td>\n",
              "      <td>A A</td>\n",
              "      <td>G A</td>\n",
              "      <td>A A</td>\n",
              "      <td>...</td>\n",
              "      <td>G G</td>\n",
              "      <td>A A</td>\n",
              "      <td>G G</td>\n",
              "      <td>A G</td>\n",
              "      <td>G G</td>\n",
              "      <td>G G</td>\n",
              "      <td>G G</td>\n",
              "      <td>A A</td>\n",
              "      <td>G G</td>\n",
              "      <td>A</td>\n",
              "    </tr>\n",
              "    <tr>\n",
              "      <th>4</th>\n",
              "      <td>TRAIN_004</td>\n",
              "      <td>0</td>\n",
              "      <td>0</td>\n",
              "      <td>0</td>\n",
              "      <td>2</td>\n",
              "      <td>G G</td>\n",
              "      <td>G G</td>\n",
              "      <td>C C</td>\n",
              "      <td>A A</td>\n",
              "      <td>C C</td>\n",
              "      <td>...</td>\n",
              "      <td>A A</td>\n",
              "      <td>A A</td>\n",
              "      <td>A A</td>\n",
              "      <td>G G</td>\n",
              "      <td>A A</td>\n",
              "      <td>A A</td>\n",
              "      <td>A G</td>\n",
              "      <td>A A</td>\n",
              "      <td>G A</td>\n",
              "      <td>C</td>\n",
              "    </tr>\n",
              "  </tbody>\n",
              "</table>\n",
              "<p>5 rows × 21 columns</p>\n",
              "</div>"
            ],
            "text/plain": [
              "          id  father  mother  gender  trait SNP_01 SNP_02 SNP_03 SNP_04  \\\n",
              "0  TRAIN_000       0       0       0      2    G G    A G    A A    G A   \n",
              "1  TRAIN_001       0       0       0      2    A G    A G    C A    A A   \n",
              "2  TRAIN_002       0       0       0      2    G G    G G    A A    G A   \n",
              "3  TRAIN_003       0       0       0      1    A A    G G    A A    G A   \n",
              "4  TRAIN_004       0       0       0      2    G G    G G    C C    A A   \n",
              "\n",
              "  SNP_05  ... SNP_07 SNP_08 SNP_09 SNP_10 SNP_11 SNP_12 SNP_13 SNP_14 SNP_15  \\\n",
              "0    C A  ...    A A    G G    A A    G G    A G    A A    A A    A A    A A   \n",
              "1    A A  ...    A A    G A    A A    A G    A A    G A    G G    A A    A A   \n",
              "2    C C  ...    A A    G A    G A    A G    A A    A A    A A    A A    A A   \n",
              "3    A A  ...    G G    A A    G G    A G    G G    G G    G G    A A    G G   \n",
              "4    C C  ...    A A    A A    A A    G G    A A    A A    A G    A A    G A   \n",
              "\n",
              "  class  \n",
              "0     B  \n",
              "1     C  \n",
              "2     B  \n",
              "3     A  \n",
              "4     C  \n",
              "\n",
              "[5 rows x 21 columns]"
            ]
          },
          "execution_count": 3,
          "metadata": {},
          "output_type": "execute_result"
        }
      ],
      "source": [
        "# train 데이터 확인\n",
        "train.head()"
      ]
    },
    {
      "cell_type": "code",
      "execution_count": 4,
      "metadata": {},
      "outputs": [
        {
          "data": {
            "text/html": [
              "<div>\n",
              "<style scoped>\n",
              "    .dataframe tbody tr th:only-of-type {\n",
              "        vertical-align: middle;\n",
              "    }\n",
              "\n",
              "    .dataframe tbody tr th {\n",
              "        vertical-align: top;\n",
              "    }\n",
              "\n",
              "    .dataframe thead th {\n",
              "        text-align: right;\n",
              "    }\n",
              "</style>\n",
              "<table border=\"1\" class=\"dataframe\">\n",
              "  <thead>\n",
              "    <tr style=\"text-align: right;\">\n",
              "      <th></th>\n",
              "      <th>SNP_id</th>\n",
              "      <th>name</th>\n",
              "      <th>chrom</th>\n",
              "      <th>cm</th>\n",
              "      <th>pos</th>\n",
              "    </tr>\n",
              "  </thead>\n",
              "  <tbody>\n",
              "    <tr>\n",
              "      <th>0</th>\n",
              "      <td>SNP_01</td>\n",
              "      <td>BTA-19852-no-rs</td>\n",
              "      <td>2</td>\n",
              "      <td>67.0546</td>\n",
              "      <td>42986890</td>\n",
              "    </tr>\n",
              "    <tr>\n",
              "      <th>1</th>\n",
              "      <td>SNP_02</td>\n",
              "      <td>ARS-USMARC-Parent-DQ647190-rs29013632</td>\n",
              "      <td>6</td>\n",
              "      <td>31.1567</td>\n",
              "      <td>13897068</td>\n",
              "    </tr>\n",
              "    <tr>\n",
              "      <th>2</th>\n",
              "      <td>SNP_03</td>\n",
              "      <td>ARS-BFGL-NGS-117009</td>\n",
              "      <td>6</td>\n",
              "      <td>68.2892</td>\n",
              "      <td>44649549</td>\n",
              "    </tr>\n",
              "    <tr>\n",
              "      <th>3</th>\n",
              "      <td>SNP_04</td>\n",
              "      <td>ARS-BFGL-NGS-60567</td>\n",
              "      <td>6</td>\n",
              "      <td>77.8749</td>\n",
              "      <td>53826064</td>\n",
              "    </tr>\n",
              "    <tr>\n",
              "      <th>4</th>\n",
              "      <td>SNP_05</td>\n",
              "      <td>BovineHD0600017032</td>\n",
              "      <td>6</td>\n",
              "      <td>80.5015</td>\n",
              "      <td>61779512</td>\n",
              "    </tr>\n",
              "  </tbody>\n",
              "</table>\n",
              "</div>"
            ],
            "text/plain": [
              "   SNP_id                                   name  chrom       cm       pos\n",
              "0  SNP_01                        BTA-19852-no-rs      2  67.0546  42986890\n",
              "1  SNP_02  ARS-USMARC-Parent-DQ647190-rs29013632      6  31.1567  13897068\n",
              "2  SNP_03                    ARS-BFGL-NGS-117009      6  68.2892  44649549\n",
              "3  SNP_04                     ARS-BFGL-NGS-60567      6  77.8749  53826064\n",
              "4  SNP_05                     BovineHD0600017032      6  80.5015  61779512"
            ]
          },
          "execution_count": 4,
          "metadata": {},
          "output_type": "execute_result"
        }
      ],
      "source": [
        "# snp_info 데이터 확인\n",
        "info.head()"
      ]
    },
    {
      "cell_type": "code",
      "execution_count": 5,
      "metadata": {},
      "outputs": [
        {
          "name": "stdout",
          "output_type": "stream",
          "text": [
            "262 15\n"
          ]
        }
      ],
      "source": [
        "# 각각의 데이터셋에 대한 개수 출력\n",
        "print(len(train), len(info))"
      ]
    },
    {
      "cell_type": "code",
      "execution_count": 6,
      "metadata": {},
      "outputs": [
        {
          "data": {
            "text/plain": [
              "id        0\n",
              "father    0\n",
              "mother    0\n",
              "gender    0\n",
              "trait     0\n",
              "SNP_01    0\n",
              "SNP_02    0\n",
              "SNP_03    0\n",
              "SNP_04    0\n",
              "SNP_05    0\n",
              "SNP_06    0\n",
              "SNP_07    0\n",
              "SNP_08    0\n",
              "SNP_09    0\n",
              "SNP_10    0\n",
              "SNP_11    0\n",
              "SNP_12    0\n",
              "SNP_13    0\n",
              "SNP_14    0\n",
              "SNP_15    0\n",
              "class     0\n",
              "dtype: int64"
            ]
          },
          "execution_count": 6,
          "metadata": {},
          "output_type": "execute_result"
        }
      ],
      "source": [
        "# train 데이터 결측치 확인\n",
        "train.isnull().sum()"
      ]
    },
    {
      "cell_type": "code",
      "execution_count": 7,
      "metadata": {},
      "outputs": [
        {
          "data": {
            "text/plain": [
              "SNP_id    0\n",
              "name      0\n",
              "chrom     0\n",
              "cm        0\n",
              "pos       0\n",
              "dtype: int64"
            ]
          },
          "execution_count": 7,
          "metadata": {},
          "output_type": "execute_result"
        }
      ],
      "source": [
        "# info 데이터 결측치 확인\n",
        "info.isnull().sum()"
      ]
    },
    {
      "attachments": {},
      "cell_type": "markdown",
      "metadata": {
        "id": "btH1H7KFZxCP"
      },
      "source": [
        "train 데이터셋에는 262개의 데이터, ifno 데이터셋에는 15개의 데이터가 존재하였다. 또한 두 개의 데이터 셋 모두 결측치가 존재하지 않는 것을 확인할 수 있다."
      ]
    },
    {
      "attachments": {},
      "cell_type": "markdown",
      "metadata": {
        "id": "6Y_8oBC8-6zP"
      },
      "source": [
        "## 2.3 데이터 분석 및 전처리\n",
        "train, test 데이터셋의 SNP정보가 카테고리형 데이터(Categorical Data)로 이루어져 있으므로 머신러닝 작업을 하기 위해 수치형 데이터(Numerical Data)로 변환해 줄 필요가 있으며 이를 위해 데이터 인코딩의 기법인 Label Encoder를 활용하였다. "
      ]
    },
    {
      "cell_type": "code",
      "execution_count": 8,
      "metadata": {
        "id": "INNOrQBNPz20"
      },
      "outputs": [],
      "source": [
        "# 훈련, 테스트 셋을 구분하기 위한 데이터 전처리\n",
        "def get_x_y(df):\n",
        "    if 'class' in df.columns:\n",
        "        df_x = df.drop(columns=['id', 'class'])\n",
        "        df_y = df['class']\n",
        "        return df_x, df_y\n",
        "    else:\n",
        "        df_x = df.drop(columns=['id'])\n",
        "        return df_x\n",
        "    \n",
        "train_x, train_y = get_x_y(train)\n",
        "test_x = get_x_y(test)\n",
        "\n",
        "# LabelEncoder 과정\n",
        "class_le = LabelEncoder()\n",
        "snp_le = LabelEncoder()\n",
        "snp_col = ['trait', 'SNP_01', 'SNP_02',\n",
        "       'SNP_03', 'SNP_04', 'SNP_05', 'SNP_06', 'SNP_07', 'SNP_08', 'SNP_09',\n",
        "       'SNP_10', 'SNP_11', 'SNP_12', 'SNP_13', 'SNP_14', 'SNP_15']\n",
        "snp_data = []\n",
        "for col in snp_col:\n",
        "    snp_data += list(train_x[col].values)\n",
        "    \n",
        "train_y = class_le.fit_transform(train_y)\n",
        "snp_le.fit(snp_data)\n",
        "\n",
        "for col in train_x.columns:\n",
        "    if col in snp_col:\n",
        "        train_x[col] = snp_le.transform(train_x[col])\n",
        "        test_x[col] = snp_le.transform(test_x[col])\n"
      ]
    },
    {
      "attachments": {},
      "cell_type": "markdown",
      "metadata": {
        "id": "B0Z8oFR4eB9N"
      },
      "source": [
        "### 2.3.1  탐색적 자료 분석 (EDA)\n",
        "주어진 데이터의 구성을 확인하기 위해 각가의 데이터 셋에 대해 EDA를 진행하였다. "
      ]
    },
    {
      "attachments": {},
      "cell_type": "markdown",
      "metadata": {},
      "source": [
        "- train 데이터 셋에 대한 EDA\n",
        "\n",
        "train 데이터 셋의 구성을 확인하기 위해 각 SNP마커의 구성과 분포를 살펴보았다. 우선 각각의 SNP마커는 모두 3개씩의 종류로 이루어진 것을 확인할 수 있었으며 개체 표현형 정보(trait)은 1과 2로 구성돼있음을 확인할 수 있었다. 또한 분포를 확인해 본 결과 특이점을 발견하지는 못하였고 다만 mother, father, gender 열은 0, 하나의 값으로 구성돼 사실상 의미가 없음을 확인할 수 있다."
      ]
    },
    {
      "cell_type": "code",
      "execution_count": 9,
      "metadata": {
        "cellView": "form",
        "colab": {
          "base_uri": "https://localhost:8080/",
          "height": 493
        },
        "id": "FDqqY21NeID3",
        "outputId": "9e27f0e6-31de-4137-a51d-556f41eef1fd"
      },
      "outputs": [
        {
          "name": "stdout",
          "output_type": "stream",
          "text": [
            "[2 1]\n",
            "['G G' 'A G' 'A A']\n",
            "['A G' 'G G' 'A A']\n",
            "['A A' 'C A' 'C C']\n",
            "['G A' 'A A' 'G G']\n",
            "['C A' 'A A' 'C C']\n",
            "['A A' 'A G' 'G G']\n",
            "['A A' 'G G' 'G A']\n",
            "['G G' 'G A' 'A A']\n",
            "['A A' 'G A' 'G G']\n",
            "['G G' 'A G' 'A A']\n",
            "['A G' 'A A' 'G G']\n",
            "['A A' 'G A' 'G G']\n",
            "['A A' 'G G' 'A G']\n",
            "['A A' 'C C' 'C A']\n",
            "['A A' 'G G' 'G A']\n"
          ]
        }
      ],
      "source": [
        "# 각각의 SNP마커에 대해서 염기서열의 종류 확인\n",
        "col_train = train.columns\n",
        "\n",
        "for i in range(4, len(col_train)-1):\n",
        "    print(train[col_train[i]].unique())"
      ]
    },
    {
      "cell_type": "code",
      "execution_count": 10,
      "metadata": {},
      "outputs": [
        {
          "data": {
            "image/png": "[encoded data removed]",
            "text/plain": [
              "<Figure size 1440x720 with 20 Axes>"
            ]
          },
          "metadata": {
            "needs_background": "light"
          },
          "output_type": "display_data"
        }
      ],
      "source": [
        "fig, axes = plt.subplots(nrows=4, ncols=5)\n",
        "i = 1\n",
        "for j in range(4):\n",
        "    for k in range(5):\n",
        "        train.iloc[:, i].value_counts().plot(kind='bar', ax=axes[j, k], figsize=(20, 10), title=train.columns[i])\n",
        "        i += 1\n",
        "plt.subplots_adjust(top=1.1, wspace=0.2, hspace=0.35)"
      ]
    },
    {
      "attachments": {},
      "cell_type": "markdown",
      "metadata": {},
      "source": [
        "- SNP_info 데이터 셋에 대한 EDA\n",
        "\n",
        "info 데이터셋은 name, chrom, cm, pos열로 구성돼있었으며 각각의 SNP가 여러 개의 염색체로 분포가 돼 있다는 점에 착안해 추후에 SNP를 임의의 그룹으로 묶어 모델링을 진행하였다"
      ]
    },
    {
      "cell_type": "code",
      "execution_count": 11,
      "metadata": {},
      "outputs": [
        {
          "data": {
            "image/png": "[encoded data removed]",
            "text/plain": [
              "<Figure size 504x504 with 1 Axes>"
            ]
          },
          "metadata": {
            "needs_background": "light"
          },
          "output_type": "display_data"
        }
      ],
      "source": [
        "plt.figure(figsize=(7, 7))\n",
        "sns.countplot(\n",
        "    data=info,\n",
        "    x='chrom'\n",
        ")\n",
        "plt.xticks(fontsize=20)\n",
        "plt.show()"
      ]
    },
    {
      "attachments": {},
      "cell_type": "markdown",
      "metadata": {
        "id": "rDZ0t-XfbPFi"
      },
      "source": [
        "# 3. 모델링을 위한 데이터셋 구축"
      ]
    },
    {
      "attachments": {},
      "cell_type": "markdown",
      "metadata": {
        "id": "WJT82bZHHSf5"
      },
      "source": [
        "## 3.2 모델 학습을 위한 데이터 구성\n",
        "info 데이터셋에서 염색체(2, 6, 7, 8, 9, 10)별로 묶어 리스트를 생성하였고 임의의 그룹으로 묶어 모델링을 진행하기 위해 각각 3개, 4개, 전체 그룹으로 구성하였다. 그로 인해 3개로 묶은 그룹 20개, 4개로 묶은 그룹 15개, 전체 그룹 총 36개의 후보군이 정해졌다."
      ]
    },
    {
      "cell_type": "code",
      "execution_count": 12,
      "metadata": {
        "id": "6s9P6UuMXZ3H"
      },
      "outputs": [],
      "source": [
        "id = info['SNP_id']\n",
        "chrom_2 = []\n",
        "chrom_6 = []\n",
        "chrom_7 = []\n",
        "chrom_8 = []\n",
        "chrom_9 = []\n",
        "chrom_10 = []\n",
        "\n",
        "for i, j  in enumerate(info['chrom']):\n",
        "    if j == 2:\n",
        "        chrom_2.append(id[i])\n",
        "    elif j == 6:\n",
        "        chrom_6.append(id[i])\n",
        "    elif j == 7:\n",
        "        chrom_7.append(id[i])\n",
        "    elif j == 8:\n",
        "        chrom_8.append(id[i])\n",
        "    elif j == 9:\n",
        "        chrom_9.append(id[i])\n",
        "    else:\n",
        "        chrom_10.append(id[i])\n",
        "        \n",
        "chrom = [chrom_2, chrom_6, chrom_7, chrom_8, chrom_9, chrom_10]\n",
        "\n",
        "# 염색체 3개 그룹씩 묶기\n",
        "comb_3_chrom = list(combinations(chrom, 3))\n",
        "# 염색체 4개 그룹씩 묶기\n",
        "comb_4_chrom = list(combinations(chrom, 4))\n",
        "# 전체 그룹 리스트로 생성\n",
        "comb_chrom = comb_3_chrom + comb_4_chrom"
      ]
    },
    {
      "cell_type": "code",
      "execution_count": 13,
      "metadata": {},
      "outputs": [
        {
          "name": "stdout",
          "output_type": "stream",
          "text": [
            "20 15\n"
          ]
        }
      ],
      "source": [
        "# 3개씩 묶은 그룹과 4개씩 묶은 그룹의 개수 출력\n",
        "print(len(comb_3_chrom), len(comb_4_chrom))"
      ]
    },
    {
      "cell_type": "code",
      "execution_count": 31,
      "metadata": {},
      "outputs": [
        {
          "data": {
            "text/plain": [
              "[['SNP_01',\n",
              "  'SNP_02',\n",
              "  'SNP_03',\n",
              "  'SNP_04',\n",
              "  'SNP_05',\n",
              "  'SNP_06',\n",
              "  'SNP_07',\n",
              "  'SNP_08',\n",
              "  'SNP_09',\n",
              "  'SNP_10'],\n",
              " ['SNP_01',\n",
              "  'SNP_02',\n",
              "  'SNP_03',\n",
              "  'SNP_04',\n",
              "  'SNP_05',\n",
              "  'SNP_06',\n",
              "  'SNP_07',\n",
              "  'SNP_08',\n",
              "  'SNP_09',\n",
              "  'SNP_11'],\n",
              " ['SNP_01',\n",
              "  'SNP_02',\n",
              "  'SNP_03',\n",
              "  'SNP_04',\n",
              "  'SNP_05',\n",
              "  'SNP_06',\n",
              "  'SNP_07',\n",
              "  'SNP_08',\n",
              "  'SNP_09',\n",
              "  'SNP_12',\n",
              "  'SNP_13',\n",
              "  'SNP_14']]"
            ]
          },
          "execution_count": 31,
          "metadata": {},
          "output_type": "execute_result"
        }
      ],
      "source": [
        "# snp_group 리스트에 그룹들을 저장\n",
        "snp_group = []\n",
        "for i in comb_chrom:\n",
        "    snp_group.append(list(itertools.chain(*i)))\n",
        "\n",
        "snp_group[:3]"
      ]
    },
    {
      "attachments": {},
      "cell_type": "markdown",
      "metadata": {
        "id": "qvwylQV5ITMY"
      },
      "source": [
        "# 4. 예측 모델 구성 및 실험"
      ]
    },
    {
      "attachments": {},
      "cell_type": "markdown",
      "metadata": {
        "id": "kEtGMqdMGUcH"
      },
      "source": [
        "## 4.1 Xgboost 알고리즘\n",
        "\n",
        "본격적으로 학습을 시작하기 위해 Xgboost 알고리즘을 활용하였다. 실험은 Window 10 Home, cpu는 AMD Ryzen 7 4700U with Radeon Graphics            2.00 GHz, RAM 16GB 환경에서 진행하였다."
      ]
    },
    {
      "attachments": {},
      "cell_type": "markdown",
      "metadata": {
        "id": "LPUnnHPof5Tq"
      },
      "source": [
        "## 4.2 학습 및 성능평가\n",
        "  \n"
      ]
    },
    {
      "attachments": {},
      "cell_type": "markdown",
      "metadata": {
        "id": "qhU3tlr0GZBV"
      },
      "source": [
        "본격적으로 모델링을 하기 위한 함수를 작성하였으며 과정은 이렇다\n",
        "\n",
        "1. 모델링을 위한 train/test 셋 분리\n",
        "   모델 성능 검증을 위해 scikit-learn 라이브러리에서 제공하는 train_test_split 모듈을 불러와 데이터를 train, test 셋으로 분리하였으며\n",
        "   random 함수의 seed 값을 고정하기 위해 random_state를 42로 설정하고 test 셋의 사이즈는 전체 데이터의 20%로 설정하였다.\n",
        "\n",
        "2. Xgboost 모델 불러오기\n",
        "   모델링을 위해 xgboost 라이브러리의 XGBClassifier 모듈을 불러왔으며 GridSearchCV의 활용을 위해 미리 파라미터를 설정해주었다. GridSearchCV에 활용되는 Xgboost의 파라미터는 다음과 같다.\n",
        "   - n_estimators: 트리 모델의 개수\n",
        "   - learning_rate: 학습률\n",
        "   - max_depth: 트리의 최대 깊이\n",
        "   이 외에도 많은 파라미터들이 존재하지만 데이터의 수가 많지 않다는 것을 고려해 파라미터 튜링에 널리 쓰이는 파라미터 3개를 선정하였다.\n",
        "<p></p>\n",
        "\n",
        "3. GridsearchCV\n",
        "  GridSearchCV를 활용해 최적의 파라미터를 선정해주었다. 이 모듈은 미리 설정해놓은 파라미터의 범위 내에서 교차 검증을 통해 최적의 파라미터를 선정해주며 마찬가지로 파라미터 조정을 해줄 수 있다. 파라미터는 다음과 같다.\n",
        "   - cv: 교차검증의 개수로 5로 설정하였다\n",
        "   - scoring: 최적의 파라미터를 선정하기 위한 지표로 Macro-F1 score를 선정하였다. Macro-F1 score는 클래스별/레이블별 F1-score의 평균으로 정의되며 0과 1 사이의 값을 가진다\n",
        "<p></p>\n",
        "\n",
        "4. 최종적인 테스트 셋 점수 예측 결과\n",
        "  마지막으로 모델이 예측한 점수와 실제 점수를 비교하여 Macro-F1 score를 도출하고 모델, 모델링에 사용된 SNP 그룹, 모델 점수를 반환하고 함수를 종료한다."
      ]
    },
    {
      "cell_type": "code",
      "execution_count": 15,
      "metadata": {},
      "outputs": [],
      "source": [
        "def modeling(group):\n",
        "    # trait 변수 추가 후 훈련 데이터 셋과 테스트 셋으로 나누는 과정\n",
        "    group.append('trait')\n",
        "    x = train_x[group]\n",
        "    x_train, x_test, y_train, y_test = train_test_split(x, train_y,\n",
        "    test_size=0.2, random_state=42)\n",
        "    # Xgboost의 XGBClassifier 모듈을 불러온 후 파라미터 설정 \n",
        "    xgb= XGBClassifier()\n",
        "    xgb_param_grid={\n",
        "    'n_estimators' : [100,200,300,400,500, 600],\n",
        "    'learning_rate' : [0.01,0.05,0.1],\n",
        "    'max_depth' : [2, 3, 4, 5]\n",
        "    }\n",
        "    # GridSearchCV를 활용해 최적의 파라미터 선정과 최적의 모델 선정\n",
        "    xgb_grid=GridSearchCV(xgb, param_grid = xgb_param_grid, scoring=\"f1_macro\", cv=5)\n",
        "    xgb_grid.fit(x_train, y_train)\n",
        "    model = xgb_grid.best_estimator_\n",
        "    # 테스트 셋의 예측 점수와 모델, SNP그룹, macro f1 score를 최종 결과물로 반환\n",
        "    pred = model.predict(x_test)\n",
        "    model_score = metrics.f1_score(pred, y_test, average='macro')\n",
        "    return model, group, model_score"
      ]
    },
    {
      "attachments": {},
      "cell_type": "markdown",
      "metadata": {
        "id": "S7ZOf2S4MIf_"
      },
      "source": [
        "### 4.2.1 Case 1. 전체 염색체 이용"
      ]
    },
    {
      "attachments": {},
      "cell_type": "markdown",
      "metadata": {},
      "source": [
        "그룹으로 묶어 실험을 진행하기 전 모델들의 모델, SNP그룹, 모델 점수를 저장하기 위한 데이터프레임을 생성하였고, 전체 데이터에 대한 모델링을 진행하였다.Macro F1-score는 0.96388를 기록하였으며 학습시간은 57.6초가 소요되었다."
      ]
    },
    {
      "cell_type": "code",
      "execution_count": 16,
      "metadata": {},
      "outputs": [],
      "source": [
        "# 데이터를 저장하기 위한 데이터프레임 생성\n",
        "snp_model = pd.DataFrame({'모델': [], 'SNP그룹': [], '모델점수': []})"
      ]
    },
    {
      "cell_type": "code",
      "execution_count": 17,
      "metadata": {
        "colab": {
          "base_uri": "https://localhost:8080/"
        },
        "id": "wjaITazrCQtC",
        "outputId": "ffb5a01b-0e16-4ca6-a636-a1a939e6ff3e"
      },
      "outputs": [
        {
          "name": "stdout",
          "output_type": "stream",
          "text": [
            "0.9638888888888889\n"
          ]
        }
      ],
      "source": [
        "# 전체 염색체에 대한 모델링 진행\n",
        "all_chrom =['SNP_01', 'SNP_02',\n",
        "       'SNP_03', 'SNP_04', 'SNP_05', 'SNP_06', 'SNP_07', 'SNP_08', 'SNP_09',\n",
        "       'SNP_10', 'SNP_11', 'SNP_12', 'SNP_13', 'SNP_14', 'SNP_15']\n",
        "\n",
        "best_model, group, score = modeling(all_chrom)\n",
        "print(score)\n",
        "data_to_insert = pd.DataFrame({'모델': best_model,\n",
        "                    'SNP그룹': [group],\n",
        "                    '모델점수': score})\n",
        "snp_model = pd.concat([snp_model, data_to_insert])"
      ]
    },
    {
      "attachments": {},
      "cell_type": "markdown",
      "metadata": {
        "id": "BiGFN2HOEccx"
      },
      "source": [
        "### 4.2.2 Case 2. 그룹으로 묶어 진행 "
      ]
    },
    {
      "attachments": {},
      "cell_type": "markdown",
      "metadata": {
        "id": "9OCyHUpfE4RK"
      },
      "source": [
        " 전체 염색체에 대한 모델링을 진행 후 본격적으로 임의의 그룹(snp_group)에 대한 실험을 수행하였다. 3개씩 묶은 그룹 20개, 4개씩 묶은 그룹 15개 총 35개에 대한 모델링을 진행하였으며 학습시간은 33분 41초가 소요되었다. "
      ]
    },
    {
      "cell_type": "code",
      "execution_count": 19,
      "metadata": {},
      "outputs": [],
      "source": [
        "# 각각의 snp그룹 별로 모델링을 진행하기 위한 for문과 모델, SNP그룹, 점수 데이터프레임에 저장\n",
        "for i in snp_group:\n",
        "    best_model, group, score = modeling(i)\n",
        "    data_to_insert = pd.DataFrame({'모델': best_model,\n",
        "                      'SNP그룹': [group],\n",
        "                      '모델점수': score})\n",
        "    snp_model = pd.concat([snp_model, data_to_insert])"
      ]
    },
    {
      "attachments": {},
      "cell_type": "markdown",
      "metadata": {
        "id": "NKTvSb_KV5T3"
      },
      "source": [
        "## 4.3 결과 정리 및 분석"
      ]
    },
    {
      "attachments": {},
      "cell_type": "markdown",
      "metadata": {},
      "source": [
        "모든 후보군에 대한 모델링을 진행 후 최종적으로 모델에 대한 정보를 저장한 snp_model_score 데이터프레임을 분석하였다. 총 36개의 행에 대해서 분석하였으며 모델점수를 기준으로 내림차순으로 분류한 결과, 가장 높은 점수는 0.964674의 정확도를 보이는 모델이었으며 분포를 살펴보면 0.875 ~ 0.964 사이의 정확도를 보임을 볼 수 있다. "
      ]
    },
    {
      "cell_type": "code",
      "execution_count": 20,
      "metadata": {},
      "outputs": [
        {
          "data": {
            "text/html": [
              "<div>\n",
              "<style scoped>\n",
              "    .dataframe tbody tr th:only-of-type {\n",
              "        vertical-align: middle;\n",
              "    }\n",
              "\n",
              "    .dataframe tbody tr th {\n",
              "        vertical-align: top;\n",
              "    }\n",
              "\n",
              "    .dataframe thead th {\n",
              "        text-align: right;\n",
              "    }\n",
              "</style>\n",
              "<table border=\"1\" class=\"dataframe\">\n",
              "  <thead>\n",
              "    <tr style=\"text-align: right;\">\n",
              "      <th></th>\n",
              "      <th>모델</th>\n",
              "      <th>SNP그룹</th>\n",
              "      <th>모델점수</th>\n",
              "    </tr>\n",
              "  </thead>\n",
              "  <tbody>\n",
              "    <tr>\n",
              "      <th>0</th>\n",
              "      <td>XGBClassifier(base_score=0.5, booster='gbtree'...</td>\n",
              "      <td>[SNP_02, SNP_03, SNP_04, SNP_05, SNP_06, SNP_0...</td>\n",
              "      <td>0.964674</td>\n",
              "    </tr>\n",
              "    <tr>\n",
              "      <th>0</th>\n",
              "      <td>XGBClassifier(base_score=0.5, booster='gbtree'...</td>\n",
              "      <td>[SNP_01, SNP_02, SNP_03, SNP_04, SNP_05, SNP_0...</td>\n",
              "      <td>0.963889</td>\n",
              "    </tr>\n",
              "    <tr>\n",
              "      <th>0</th>\n",
              "      <td>XGBClassifier(base_score=0.5, booster='gbtree'...</td>\n",
              "      <td>[SNP_02, SNP_03, SNP_04, SNP_05, SNP_06, SNP_0...</td>\n",
              "      <td>0.963889</td>\n",
              "    </tr>\n",
              "    <tr>\n",
              "      <th>0</th>\n",
              "      <td>XGBClassifier(base_score=0.5, booster='gbtree'...</td>\n",
              "      <td>[SNP_02, SNP_03, SNP_04, SNP_05, SNP_06, SNP_0...</td>\n",
              "      <td>0.963889</td>\n",
              "    </tr>\n",
              "    <tr>\n",
              "      <th>0</th>\n",
              "      <td>XGBClassifier(base_score=0.5, booster='gbtree'...</td>\n",
              "      <td>[SNP_02, SNP_03, SNP_04, SNP_05, SNP_06, SNP_0...</td>\n",
              "      <td>0.963889</td>\n",
              "    </tr>\n",
              "  </tbody>\n",
              "</table>\n",
              "</div>"
            ],
            "text/plain": [
              "                                                  모델  \\\n",
              "0  XGBClassifier(base_score=0.5, booster='gbtree'...   \n",
              "0  XGBClassifier(base_score=0.5, booster='gbtree'...   \n",
              "0  XGBClassifier(base_score=0.5, booster='gbtree'...   \n",
              "0  XGBClassifier(base_score=0.5, booster='gbtree'...   \n",
              "0  XGBClassifier(base_score=0.5, booster='gbtree'...   \n",
              "\n",
              "                                               SNP그룹      모델점수  \n",
              "0  [SNP_02, SNP_03, SNP_04, SNP_05, SNP_06, SNP_0...  0.964674  \n",
              "0  [SNP_01, SNP_02, SNP_03, SNP_04, SNP_05, SNP_0...  0.963889  \n",
              "0  [SNP_02, SNP_03, SNP_04, SNP_05, SNP_06, SNP_0...  0.963889  \n",
              "0  [SNP_02, SNP_03, SNP_04, SNP_05, SNP_06, SNP_0...  0.963889  \n",
              "0  [SNP_02, SNP_03, SNP_04, SNP_05, SNP_06, SNP_0...  0.963889  "
            ]
          },
          "execution_count": 20,
          "metadata": {},
          "output_type": "execute_result"
        }
      ],
      "source": [
        "# snp_model 데이터프레임 모델점수 열을 기준으로 내림차순 정렬\n",
        "snp_model_score = snp_model.sort_values(by='모델점수', ascending=False)\n",
        "snp_model_score.head()"
      ]
    },
    {
      "cell_type": "code",
      "execution_count": 21,
      "metadata": {},
      "outputs": [
        {
          "data": {
            "text/plain": [
              "0.7621    1\n",
              "0.8143    1\n",
              "0.8514    2\n",
              "0.8626    3\n",
              "0.8719    1\n",
              "0.8751    1\n",
              "0.8886    1\n",
              "0.8917    3\n",
              "0.8940    2\n",
              "0.9056    1\n",
              "0.9085    1\n",
              "0.9108    3\n",
              "0.9125    1\n",
              "0.9136    1\n",
              "0.9257    1\n",
              "0.9278    1\n",
              "0.9293    3\n",
              "0.9305    1\n",
              "0.9465    1\n",
              "0.9475    1\n",
              "0.9639    5\n",
              "0.9647    1\n",
              "Name: 모델점수, dtype: int64"
            ]
          },
          "execution_count": 21,
          "metadata": {},
          "output_type": "execute_result"
        }
      ],
      "source": [
        "# 모델점수 정렬표\n",
        "round(snp_model_score['모델점수'], 4).value_counts().sort_index()"
      ]
    },
    {
      "cell_type": "code",
      "execution_count": 22,
      "metadata": {},
      "outputs": [
        {
          "data": {
            "image/png": "[encoded data removed]",
            "text/plain": [
              "<Figure size 504x504 with 1 Axes>"
            ]
          },
          "metadata": {
            "needs_background": "light"
          },
          "output_type": "display_data"
        }
      ],
      "source": [
        "# 위의 표에 대한 막대 그래프\n",
        "round(snp_model_score['모델점수'], 4).value_counts().sort_index().plot(kind='bar', figsize=(7, 7))\n",
        "plt.xticks(fontsize=15)\n",
        "plt.show()"
      ]
    },
    {
      "attachments": {},
      "cell_type": "markdown",
      "metadata": {},
      "source": [
        "### 4.3.1 최적의 모델 선정"
      ]
    },
    {
      "attachments": {},
      "cell_type": "markdown",
      "metadata": {},
      "source": [
        "결과적으로 0.964674의 Macro F1-score로 최고의 정확도를 기록한 모델을 최종적으로 선택하였다. 모델의 파라미터로는 n_estimators: 300,learning_rate: 0.05, max_depth: 2를 기록하였음을 볼 수 있으며 SNP그룹으로는 6, 9, 10번 염색체가 선택되었다. "
      ]
    },
    {
      "cell_type": "code",
      "execution_count": 23,
      "metadata": {},
      "outputs": [
        {
          "data": {
            "text/html": [
              "<style>#sk-container-id-1 {color: black;background-color: white;}#sk-container-id-1 pre{padding: 0;}#sk-container-id-1 div.sk-toggleable {background-color: white;}#sk-container-id-1 label.sk-toggleable__label {cursor: pointer;display: block;width: 100%;margin-bottom: 0;padding: 0.3em;box-sizing: border-box;text-align: center;}#sk-container-id-1 label.sk-toggleable__label-arrow:before {content: \"▸\";float: left;margin-right: 0.25em;color: #696969;}#sk-container-id-1 label.sk-toggleable__label-arrow:hover:before {color: black;}#sk-container-id-1 div.sk-estimator:hover label.sk-toggleable__label-arrow:before {color: black;}#sk-container-id-1 div.sk-toggleable__content {max-height: 0;max-width: 0;overflow: hidden;text-align: left;background-color: #f0f8ff;}#sk-container-id-1 div.sk-toggleable__content pre {margin: 0.2em;color: black;border-radius: 0.25em;background-color: #f0f8ff;}#sk-container-id-1 input.sk-toggleable__control:checked~div.sk-toggleable__content {max-height: 200px;max-width: 100%;overflow: auto;}#sk-container-id-1 input.sk-toggleable__control:checked~label.sk-toggleable__label-arrow:before {content: \"▾\";}#sk-container-id-1 div.sk-estimator input.sk-toggleable__control:checked~label.sk-toggleable__label {background-color: #d4ebff;}#sk-container-id-1 div.sk-label input.sk-toggleable__control:checked~label.sk-toggleable__label {background-color: #d4ebff;}#sk-container-id-1 input.sk-hidden--visually {border: 0;clip: rect(1px 1px 1px 1px);clip: rect(1px, 1px, 1px, 1px);height: 1px;margin: -1px;overflow: hidden;padding: 0;position: absolute;width: 1px;}#sk-container-id-1 div.sk-estimator {font-family: monospace;background-color: #f0f8ff;border: 1px dotted black;border-radius: 0.25em;box-sizing: border-box;margin-bottom: 0.5em;}#sk-container-id-1 div.sk-estimator:hover {background-color: #d4ebff;}#sk-container-id-1 div.sk-parallel-item::after {content: \"\";width: 100%;border-bottom: 1px solid gray;flex-grow: 1;}#sk-container-id-1 div.sk-label:hover label.sk-toggleable__label {background-color: #d4ebff;}#sk-container-id-1 div.sk-serial::before {content: \"\";position: absolute;border-left: 1px solid gray;box-sizing: border-box;top: 0;bottom: 0;left: 50%;z-index: 0;}#sk-container-id-1 div.sk-serial {display: flex;flex-direction: column;align-items: center;background-color: white;padding-right: 0.2em;padding-left: 0.2em;position: relative;}#sk-container-id-1 div.sk-item {position: relative;z-index: 1;}#sk-container-id-1 div.sk-parallel {display: flex;align-items: stretch;justify-content: center;background-color: white;position: relative;}#sk-container-id-1 div.sk-item::before, #sk-container-id-1 div.sk-parallel-item::before {content: \"\";position: absolute;border-left: 1px solid gray;box-sizing: border-box;top: 0;bottom: 0;left: 50%;z-index: -1;}#sk-container-id-1 div.sk-parallel-item {display: flex;flex-direction: column;z-index: 1;position: relative;background-color: white;}#sk-container-id-1 div.sk-parallel-item:first-child::after {align-self: flex-end;width: 50%;}#sk-container-id-1 div.sk-parallel-item:last-child::after {align-self: flex-start;width: 50%;}#sk-container-id-1 div.sk-parallel-item:only-child::after {width: 0;}#sk-container-id-1 div.sk-dashed-wrapped {border: 1px dashed gray;margin: 0 0.4em 0.5em 0.4em;box-sizing: border-box;padding-bottom: 0.4em;background-color: white;}#sk-container-id-1 div.sk-label label {font-family: monospace;font-weight: bold;display: inline-block;line-height: 1.2em;}#sk-container-id-1 div.sk-label-container {text-align: center;}#sk-container-id-1 div.sk-container {/* jupyter's `normalize.less` sets `[hidden] { display: none; }` but bootstrap.min.css set `[hidden] { display: none !important; }` so we also need the `!important` here to be able to override the default hidden behavior on the sphinx rendered scikit-learn.org. See: https://github.com/scikit-learn/scikit-learn/issues/21755 */display: inline-block !important;position: relative;}#sk-container-id-1 div.sk-text-repr-fallback {display: none;}</style><div id=\"sk-container-id-1\" class=\"sk-top-container\"><div class=\"sk-text-repr-fallback\"><pre>XGBClassifier(base_score=0.5, booster=&#x27;gbtree&#x27;, callbacks=None,\n",
              "              colsample_bylevel=1, colsample_bynode=1, colsample_bytree=1,\n",
              "              early_stopping_rounds=None, enable_categorical=False,\n",
              "              eval_metric=None, feature_types=None, gamma=0, gpu_id=-1,\n",
              "              grow_policy=&#x27;depthwise&#x27;, importance_type=None,\n",
              "              interaction_constraints=&#x27;&#x27;, learning_rate=0.05, max_bin=256,\n",
              "              max_cat_threshold=64, max_cat_to_onehot=4, max_delta_step=0,\n",
              "              max_depth=2, max_leaves=0, min_child_weight=1, missing=nan,\n",
              "              monotone_constraints=&#x27;()&#x27;, n_estimators=300, n_jobs=0,\n",
              "              num_parallel_tree=1, objective=&#x27;multi:softprob&#x27;, predictor=&#x27;auto&#x27;, ...)</pre><b>In a Jupyter environment, please rerun this cell to show the HTML representation or trust the notebook. <br />On GitHub, the HTML representation is unable to render, please try loading this page with nbviewer.org.</b></div><div class=\"sk-container\" hidden><div class=\"sk-item\"><div class=\"sk-estimator sk-toggleable\"><input class=\"sk-toggleable__control sk-hidden--visually\" id=\"sk-estimator-id-1\" type=\"checkbox\" checked><label for=\"sk-estimator-id-1\" class=\"sk-toggleable__label sk-toggleable__label-arrow\">XGBClassifier</label><div class=\"sk-toggleable__content\"><pre>XGBClassifier(base_score=0.5, booster=&#x27;gbtree&#x27;, callbacks=None,\n",
              "              colsample_bylevel=1, colsample_bynode=1, colsample_bytree=1,\n",
              "              early_stopping_rounds=None, enable_categorical=False,\n",
              "              eval_metric=None, feature_types=None, gamma=0, gpu_id=-1,\n",
              "              grow_policy=&#x27;depthwise&#x27;, importance_type=None,\n",
              "              interaction_constraints=&#x27;&#x27;, learning_rate=0.05, max_bin=256,\n",
              "              max_cat_threshold=64, max_cat_to_onehot=4, max_delta_step=0,\n",
              "              max_depth=2, max_leaves=0, min_child_weight=1, missing=nan,\n",
              "              monotone_constraints=&#x27;()&#x27;, n_estimators=300, n_jobs=0,\n",
              "              num_parallel_tree=1, objective=&#x27;multi:softprob&#x27;, predictor=&#x27;auto&#x27;, ...)</pre></div></div></div></div></div>"
            ],
            "text/plain": [
              "XGBClassifier(base_score=0.5, booster='gbtree', callbacks=None,\n",
              "              colsample_bylevel=1, colsample_bynode=1, colsample_bytree=1,\n",
              "              early_stopping_rounds=None, enable_categorical=False,\n",
              "              eval_metric=None, feature_types=None, gamma=0, gpu_id=-1,\n",
              "              grow_policy='depthwise', importance_type=None,\n",
              "              interaction_constraints='', learning_rate=0.05, max_bin=256,\n",
              "              max_cat_threshold=64, max_cat_to_onehot=4, max_delta_step=0,\n",
              "              max_depth=2, max_leaves=0, min_child_weight=1, missing=nan,\n",
              "              monotone_constraints='()', n_estimators=300, n_jobs=0,\n",
              "              num_parallel_tree=1, objective='multi:softprob', predictor='auto', ...)"
            ]
          },
          "execution_count": 23,
          "metadata": {},
          "output_type": "execute_result"
        }
      ],
      "source": [
        "# 최적의 Xgboost 모델에 대한 파라미터 정보\n",
        "best_snp_model = snp_model_score.iloc[0, ]['모델']\n",
        "best_snp_model"
      ]
    },
    {
      "cell_type": "code",
      "execution_count": 24,
      "metadata": {},
      "outputs": [
        {
          "name": "stdout",
          "output_type": "stream",
          "text": [
            "6번 염색체\n",
            "9번 염색체\n",
            "10번 염색체\n"
          ]
        }
      ],
      "source": [
        "# 최적의 Xgboost 모델에 대한 SNP그룹\n",
        "snp_best_group = snp_model_score.iloc[0, ]['SNP그룹']\n",
        "\n",
        "chrom_count = [2, 6, 7, 8, 9, 10]\n",
        "for j, i in enumerate(chrom):\n",
        "    if (set(i) & set(snp_best_group)) != set():\n",
        "        print(f\"{chrom_count[j]}번 염색체\")"
      ]
    },
    {
      "cell_type": "code",
      "execution_count": 25,
      "metadata": {},
      "outputs": [
        {
          "data": {
            "text/plain": [
              "0.9646739130434782"
            ]
          },
          "execution_count": 25,
          "metadata": {},
          "output_type": "execute_result"
        }
      ],
      "source": [
        "# 최적의 Xgboost 모델에 대한 Macro-F1 score\n",
        "snp_model_score.iloc[0, ]['모델점수']"
      ]
    },
    {
      "attachments": {},
      "cell_type": "markdown",
      "metadata": {},
      "source": [
        "### 4.3.2 모델 예측과 결과 도출"
      ]
    },
    {
      "attachments": {},
      "cell_type": "markdown",
      "metadata": {},
      "source": [
        "도출될 모델을 토대로 테스트 셋에 대한 예측을 진행하였다. 테스트 셋 역시 훈련 셋과 동일하게 Feature Selection을 진행하였으며 Scikit-Learn 라이브러리의 inverse_transform 모듈을 통해 최종 결과값을 도출하였다. 그 결과 0.98116의 Macro-F1 score를 기록하여 준수한 결과를 도출하였다."
      ]
    },
    {
      "cell_type": "code",
      "execution_count": 30,
      "metadata": {},
      "outputs": [
        {
          "data": {
            "text/html": [
              "<div>\n",
              "<style scoped>\n",
              "    .dataframe tbody tr th:only-of-type {\n",
              "        vertical-align: middle;\n",
              "    }\n",
              "\n",
              "    .dataframe tbody tr th {\n",
              "        vertical-align: top;\n",
              "    }\n",
              "\n",
              "    .dataframe thead th {\n",
              "        text-align: right;\n",
              "    }\n",
              "</style>\n",
              "<table border=\"1\" class=\"dataframe\">\n",
              "  <thead>\n",
              "    <tr style=\"text-align: right;\">\n",
              "      <th></th>\n",
              "      <th>id</th>\n",
              "      <th>class</th>\n",
              "    </tr>\n",
              "  </thead>\n",
              "  <tbody>\n",
              "    <tr>\n",
              "      <th>0</th>\n",
              "      <td>TEST_000</td>\n",
              "      <td>A</td>\n",
              "    </tr>\n",
              "    <tr>\n",
              "      <th>1</th>\n",
              "      <td>TEST_001</td>\n",
              "      <td>B</td>\n",
              "    </tr>\n",
              "    <tr>\n",
              "      <th>2</th>\n",
              "      <td>TEST_002</td>\n",
              "      <td>C</td>\n",
              "    </tr>\n",
              "    <tr>\n",
              "      <th>3</th>\n",
              "      <td>TEST_003</td>\n",
              "      <td>C</td>\n",
              "    </tr>\n",
              "    <tr>\n",
              "      <th>4</th>\n",
              "      <td>TEST_004</td>\n",
              "      <td>A</td>\n",
              "    </tr>\n",
              "  </tbody>\n",
              "</table>\n",
              "</div>"
            ],
            "text/plain": [
              "         id class\n",
              "0  TEST_000     A\n",
              "1  TEST_001     B\n",
              "2  TEST_002     C\n",
              "3  TEST_003     C\n",
              "4  TEST_004     A"
            ]
          },
          "execution_count": 30,
          "metadata": {},
          "output_type": "execute_result"
        }
      ],
      "source": [
        "test_drop = test_x[snp_best_group]\n",
        "pred = best_snp_model.predict(test_drop)\n",
        "sample = pd.read_csv('sample_submission.csv')\n",
        "sample['class'] = class_le.inverse_transform(pred)\n",
        "sample.head()"
      ]
    },
    {
      "attachments": {},
      "cell_type": "markdown",
      "metadata": {
        "id": "MzgdPd6_S-nz"
      },
      "source": [
        "# 5. 결론\n",
        "\n"
      ]
    },
    {
      "attachments": {},
      "cell_type": "markdown",
      "metadata": {},
      "source": [
        "본 연구에서는 SNP의 정보를 토대로 A, B, C 세가지 품종을 분류하기 위한 모델을 연구하였다. 개발 모델은 Xgboost 모델을 사용하였으며 성능의 향상을 위해 GridSearchCv 기법을 활용하였다. 튜닝할 파라미터로는 n_estimators,learning_rate, max_depth를 사용하였으며 총 36개의 염색체 그룹에 대한 실험을 진행하였다. 그 결과 가장 높은 Macro-F1 score(0.964674)를 기록한 모델을 토대로 테스트 데이터의 예측 실험을 진행하였으며 최종적으로는 0.98116의 Macro-F1 score를 기록하였다. 본 연구를 통해 머신러닝에 SNP 품종 분류에 대한 활용 가능성을 살펴볼 수 있었으며 제안된 모델과 기법 또한 추후에 SNP 품종 연구에도 도움이 될 것으로 기대된다."
      ]
    },
    {
      "attachments": {},
      "cell_type": "markdown",
      "metadata": {
        "id": "RnYmzquzfTw9"
      },
      "source": [
        "# 6. 참고문헌\n",
        "[1] 김형용. 고밀도 SNP 칩 유전자형 데이터 기계학습 기반반려견 품종 식별 유전마커 선발(2019)\n",
        "\n",
        "[2] 김상곤. SNP마커 개발을 통한 사료용 옥수수 품종판별(2017)\n",
        "\n",
        "[3] 김승창. 단일염기다형성 마커를 이용한 백우 품종 식별 방법(2020)\n",
        "\n",
        "[4] Xgboost[웹사이트]. (2020.07.13). URL: https://xgboost.readthedocs.io/en/stable/tutorials/param_tuning.html\n",
        "\n",
        "[5] 유전체 정보 데이터 [웹사이트]. URL: https://dacon.io/competitions/official/236035/data"
      ]
    }
  ],
  "metadata": {
    "accelerator": "GPU",
    "colab": {
      "collapsed_sections": [
        "q_HJ44IifxuL",
        "b-Y1n7ZUeeIF",
        "X-IAc9JbrzwJ",
        "kEtGMqdMGUcH",
        "RnYmzquzfTw9"
      ],
      "provenance": []
    },
    "gpuClass": "standard",
    "kernelspec": {
      "display_name": "conda",
      "language": "python",
      "name": "conda"
    },
    "language_info": {
      "codemirror_mode": {
        "name": "ipython",
        "version": 3
      },
      "file_extension": ".py",
      "mimetype": "text/x-python",
      "name": "python",
      "nbconvert_exporter": "python",
      "pygments_lexer": "ipython3",
      "version": "3.10.2"
    },
    "vscode": {
      "interpreter": {
        "hash": "635a455e9d0cdbc677692d4bc01f6172ace5a10e67d05bc82b5f249826b54459"
      }
    }
  },
  "nbformat": 4,
  "nbformat_minor": 0
}
